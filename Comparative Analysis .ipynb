{
 "cells": [
  {
   "cell_type": "markdown",
   "metadata": {
    "id": "65AjUXbCAUYf"
   },
   "source": [
    "# Comparitive Analysis"
   ]
  },
  {
   "cell_type": "markdown",
   "metadata": {
    "id": "iRhJrBwxAbKa"
   },
   "source": [
    "### Setup"
   ]
  },
  {
   "cell_type": "code",
   "execution_count": 2,
   "metadata": {
    "colab": {
     "base_uri": "https://localhost:8080/"
    },
    "id": "aLTpDFOJt8Ee",
    "outputId": "b0f10f57-a746-447f-b01c-9868c1c5dc65",
    "tags": []
   },
   "outputs": [
    {
     "name": "stderr",
     "output_type": "stream",
     "text": [
      "[nltk_data] Downloading package punkt to /root/nltk_data...\n",
      "[nltk_data]   Unzipping tokenizers/punkt.zip.\n"
     ]
    }
   ],
   "source": [
    "import nltk\n",
    "nltk.download (\"punkt\")\n",
    "import pandas as pd\n",
    "from tqdm import tqdm\n",
    "from collections import Counter\n",
    "import numpy as np\n",
    "from sklearn.feature_extraction.text import TfidfVectorizer\n",
    "from sklearn.metrics.pairwise import cosine_similarity\n",
    "import matplotlib.pyplot as plt\n",
    "import boto3"
   ]
  },
  {
   "cell_type": "markdown",
   "metadata": {},
   "source": [
    "### Using Boto3, we accessed our text files that are stored in our `finaltranscriptionsbucket`. After running the code below, look at the JupyterLab file viewer on the left and the files, `text1`, `text2`, `text3`, and `text4` should be available to view. "
   ]
  },
  {
   "cell_type": "code",
   "execution_count": 48,
   "metadata": {
    "tags": []
   },
   "outputs": [],
   "source": [
    "s3 = boto3.client('s3')\n",
    "\n",
    "bucket_name = 'finaltranscriptionsbucket'\n",
    "object_keys = [\n",
    "    'MLLectureLDAandQDAZoomTranscript.txt',\n",
    "    'MLLectureLDAandQDAWhisperTranscript.txt',\n",
    "    'MLLectureRegularizationandSubsetSelectionZoomTranscript.txt',\n",
    "    'MLLectureRegularizationandSubsetSelectionWhisperTranscript.txt'\n",
    "]\n",
    "\n",
    "texts_dict = {}\n",
    "for i, key in enumerate(object_keys):\n",
    "    local_file_path = f'text{i+1}'  \n",
    "    s3.download_file(bucket_name, key, local_file_path)\n",
    "    with open(local_file_path, \"r\") as f:\n",
    "        texts_dict[f\"text{i+1}\"] = f.read()\n",
    "\n",
    "df = pd.DataFrame({\n",
    "    'lecture_name': ['MLLectureLDAandQDA', 'MLLectureLDAandQDA', 'MLLectureRegularizationandSubsetSelection', 'MLLectureRegularizationandSubsetSelection'],\n",
    "    'transcriber': ['Zoom', 'Whisper', 'Zoom', 'Whisper'],\n",
    "    'text': list(texts_dict.values())  \n",
    "})"
   ]
  },
  {
   "cell_type": "code",
   "execution_count": 50,
   "metadata": {
    "id": "Ju3K1HPNAlIJ",
    "tags": []
   },
   "outputs": [],
   "source": [
    "#For each transcription, tokenize the words and put them into a new column in the df\n",
    "#This will allow for us to do text comparisons based on word frequency\n",
    "tokens_list = []\n",
    "for i, row in df.iterrows():\n",
    "  row_tokens = nltk.word_tokenize(row.text)\n",
    "  row_tokens = [token.lower() for token in row_tokens]\n",
    "  tokens_list.append(row_tokens)\n",
    "df['tokens'] = tokens_list"
   ]
  },
  {
   "cell_type": "code",
   "execution_count": 51,
   "metadata": {
    "id": "9eFerT5SAk5P",
    "tags": []
   },
   "outputs": [
    {
     "data": {
      "text/html": [
       "<div>\n",
       "<style scoped>\n",
       "    .dataframe tbody tr th:only-of-type {\n",
       "        vertical-align: middle;\n",
       "    }\n",
       "\n",
       "    .dataframe tbody tr th {\n",
       "        vertical-align: top;\n",
       "    }\n",
       "\n",
       "    .dataframe thead th {\n",
       "        text-align: right;\n",
       "    }\n",
       "</style>\n",
       "<table border=\"1\" class=\"dataframe\">\n",
       "  <thead>\n",
       "    <tr style=\"text-align: right;\">\n",
       "      <th></th>\n",
       "      <th>lecture_name</th>\n",
       "      <th>transcriber</th>\n",
       "      <th>text</th>\n",
       "      <th>tokens</th>\n",
       "    </tr>\n",
       "  </thead>\n",
       "  <tbody>\n",
       "    <tr>\n",
       "      <th>0</th>\n",
       "      <td>MLLectureLDAandQDA</td>\n",
       "      <td>Zoom</td>\n",
       "      <td>Hi  everyone,  I  hope  you  all  had  a  won...</td>\n",
       "      <td>[hi, everyone, ,, i, hope, you, all, had, a, w...</td>\n",
       "    </tr>\n",
       "    <tr>\n",
       "      <th>1</th>\n",
       "      <td>MLLectureLDAandQDA</td>\n",
       "      <td>Whisper</td>\n",
       "      <td>Hi, everyone. I hope you all had a wonderful w...</td>\n",
       "      <td>[hi, ,, everyone, ., i, hope, you, all, had, a...</td>\n",
       "    </tr>\n",
       "    <tr>\n",
       "      <th>2</th>\n",
       "      <td>MLLectureRegularizationandSubsetSelection</td>\n",
       "      <td>Zoom</td>\n",
       "      <td>Hi,  everyone.  So  thank  you  very  much  f...</td>\n",
       "      <td>[hi, ,, everyone, ., so, thank, you, very, muc...</td>\n",
       "    </tr>\n",
       "    <tr>\n",
       "      <th>3</th>\n",
       "      <td>MLLectureRegularizationandSubsetSelection</td>\n",
       "      <td>Whisper</td>\n",
       "      <td>Hi, everyone. So thank you very much for watch...</td>\n",
       "      <td>[hi, ,, everyone, ., so, thank, you, very, muc...</td>\n",
       "    </tr>\n",
       "  </tbody>\n",
       "</table>\n",
       "</div>"
      ],
      "text/plain": [
       "                                lecture_name transcriber  \\\n",
       "0                         MLLectureLDAandQDA        Zoom   \n",
       "1                         MLLectureLDAandQDA     Whisper   \n",
       "2  MLLectureRegularizationandSubsetSelection        Zoom   \n",
       "3  MLLectureRegularizationandSubsetSelection     Whisper   \n",
       "\n",
       "                                                text  \\\n",
       "0   Hi  everyone,  I  hope  you  all  had  a  won...   \n",
       "1  Hi, everyone. I hope you all had a wonderful w...   \n",
       "2   Hi,  everyone.  So  thank  you  very  much  f...   \n",
       "3  Hi, everyone. So thank you very much for watch...   \n",
       "\n",
       "                                              tokens  \n",
       "0  [hi, everyone, ,, i, hope, you, all, had, a, w...  \n",
       "1  [hi, ,, everyone, ., i, hope, you, all, had, a...  \n",
       "2  [hi, ,, everyone, ., so, thank, you, very, muc...  \n",
       "3  [hi, ,, everyone, ., so, thank, you, very, muc...  "
      ]
     },
     "execution_count": 51,
     "metadata": {},
     "output_type": "execute_result"
    }
   ],
   "source": [
    "df"
   ]
  },
  {
   "cell_type": "markdown",
   "metadata": {
    "id": "GpC6MVOzAmGp"
   },
   "source": [
    "# Comparative Frequency Analysis"
   ]
  },
  {
   "cell_type": "markdown",
   "metadata": {},
   "source": [
    "### Calculates the log odds difference for each word in the word_counts dictionary/Counter\n",
    "### Smoothing is added to avoid dividing by 0 for other small numbers, valuing differences in larger counts more than smaller\n",
    "### i.e. depending on the smoothing, something showing up 2 times versus 0, will not have as high a difference as if it shows up 5 times versus 3"
   ]
  },
  {
   "cell_type": "code",
   "execution_count": 52,
   "metadata": {
    "id": "E2Oues7wAqqr",
    "tags": []
   },
   "outputs": [],
   "source": [
    "def log_odds_diff (word_counts_group1: dict, word_counts_group2: dict, smoothing=0.0) -> dict:\n",
    "\n",
    "  log_odds = dict ()\n",
    "  group1_count = sum([count for word, count in word_counts_group1.items()])\n",
    "  group2_count = sum([count for word, count in word_counts_group2.items()])\n",
    "  total_counts = word_counts_group1 + word_counts_group2\n",
    "\n",
    "  for word, count in total_counts.items():\n",
    "    group1_log = np.log((word_counts_group1[word]/group1_count)/(1-word_counts_group1[word]/group1_count) + smoothing)\n",
    "    group2_log = np.log((word_counts_group2[word]/group2_count)/(1-word_counts_group2[word]/group2_count) + smoothing)\n",
    "    log_odds[word] = group1_log - group2_log\n",
    "\n",
    "  return log_odds"
   ]
  },
  {
   "cell_type": "markdown",
   "metadata": {},
   "source": [
    "### Comparison for the lecture on LDA and QDA"
   ]
  },
  {
   "cell_type": "code",
   "execution_count": 53,
   "metadata": {
    "id": "4D6jBx-vAqhD",
    "tags": []
   },
   "outputs": [],
   "source": [
    "zoom_counter1 = Counter(df.tokens[0])\n",
    "whisper_counter1 = Counter(df.tokens[1])"
   ]
  },
  {
   "cell_type": "code",
   "execution_count": 54,
   "metadata": {
    "id": "cQ3ek7RWAp1n",
    "tags": []
   },
   "outputs": [
    {
     "name": "stdout",
     "output_type": "stream",
     "text": [
      "Distinctive words for Zoom\n",
      "uh 1.48   23 vs. 0\n",
      "current 1.12   14 vs. 0\n",
      "thyracetopsa 0.63   6 vs. 0\n",
      "land 0.63   6 vs. 0\n",
      "-currency 0.63   6 vs. 0\n",
      "suposa 0.55   5 vs. 0\n",
      "-current 0.55   5 vs. 0\n",
      "variance 0.54   30 vs. 14\n",
      "color 0.49   6 vs. 1\n",
      "certain 0.48   11 vs. 4\n",
      "\n",
      "Distinctive words for Whisper\n",
      "variance-covariance -1.37   19 vs. 0\n",
      "sopoza -1.33   18 vs. 0\n",
      "setosa -0.87   9 vs. 0\n",
      "discern -0.70   18 vs. 6\n",
      "covariance -0.61   30 vs. 14\n",
      "decision -0.55   13 vs. 5\n",
      "versicolor -0.48   4 vs. 0\n",
      "off-diagonal -0.38   3 vs. 0\n",
      "univariate -0.38   3 vs. 0\n",
      "logit -0.38   3 vs. 0\n"
     ]
    }
   ],
   "source": [
    "#Calculate the log_odds difference\n",
    "#We chose the smoothing based on trial and error of what seemed to represent the differences best\n",
    "log_odds_score = log_odds_diff (zoom_counter1, whisper_counter1, smoothing=0.001)\n",
    "\n",
    "#Print out the highest and lowest differences along with the scores and counts associated with each\n",
    "print (\"Distinctive words for Zoom\")\n",
    "for word, score in sorted (log_odds_score.items(), key=lambda x:x[1], reverse=True)[0:10]:\n",
    "  print (word, f\"{score:0.2f}\", \" \", zoom_counter1[word], \"vs.\", whisper_counter1[word])\n",
    "print()\n",
    "print (\"Distinctive words for Whisper\")\n",
    "for word, score in sorted (log_odds_score.items(), key=lambda x:x[1], reverse=False)[0:10]:\n",
    "  print (word, f\"{score:0.2f}\", \" \", whisper_counter1[word], \"vs.\", zoom_counter1[word])"
   ]
  },
  {
   "cell_type": "markdown",
   "metadata": {},
   "source": [
    "### As you can see, there are quite a few differences between Zoom and Whisper. One interesting one is 'uh' for Zoom, which means Zoom transcriptions pick up on verbal pauses like this, but Whisper skips over them.\n",
    "\n",
    "### Also, you can see that Zoom has 11 instances of \"suposa\" or \"thyracetopsa\" to Whisper's 0. But Whisper has 18 instances of \"sopoza\" which demonstrates a difference in spelling. One thing that's interesting is none of these are spelled correctly. This may be because of our teacher's poor pronunciation."
   ]
  },
  {
   "cell_type": "markdown",
   "metadata": {},
   "source": [
    "### Comparison for the lecture on Regularization and Subset Selection"
   ]
  },
  {
   "cell_type": "code",
   "execution_count": 55,
   "metadata": {
    "tags": []
   },
   "outputs": [],
   "source": [
    "zoom_counter2 = Counter(df.tokens[2])\n",
    "whisper_counter2 = Counter(df.tokens[3])"
   ]
  },
  {
   "cell_type": "code",
   "execution_count": 56,
   "metadata": {
    "tags": []
   },
   "outputs": [
    {
     "name": "stdout",
     "output_type": "stream",
     "text": [
      "Distinctive words for Zoom\n",
      "cross 1.77   26 vs. 0\n",
      "-validation 1.51   19 vs. 0\n",
      "seven 1.17   12 vs. 0\n",
      "-square 1.05   10 vs. 0\n",
      "last 0.85   12 vs. 2\n",
      "true 0.83   14 vs. 3\n",
      "basc 0.83   7 vs. 0\n",
      "cell 0.73   12 vs. 3\n",
      "-predictor 0.66   5 vs. 0\n",
      "outer 0.66   5 vs. 0\n",
      "\n",
      "Distinctive words for Whisper\n",
      "cross-validation -1.71   24 vs. 0\n",
      "squared -1.12   11 vs. 0\n",
      "ridge -0.92   8 vs. 0\n",
      "7 -0.90   15 vs. 3\n",
      "lasso -0.79   15 vs. 4\n",
      "2 -0.75   8 vs. 1\n",
      "residual -0.74   14 vs. 4\n",
      "l2 -0.66   5 vs. 0\n",
      "1 -0.50   10 vs. 4\n",
      "success -0.45   3 vs. 0\n"
     ]
    }
   ],
   "source": [
    "#Calculate the log_odds difference\n",
    "log_odds_score = log_odds_diff (zoom_counter2, whisper_counter2, smoothing=0.001)\n",
    "\n",
    "#Print out the highest and lowest differences along with the scores and counts associated with each\n",
    "print (\"Distinctive words for Zoom\")\n",
    "for word, score in sorted (log_odds_score.items(), key=lambda x:x[1], reverse=True)[0:10]:\n",
    "  print (word, f\"{score:0.2f}\", \" \", zoom_counter2[word], \"vs.\", whisper_counter2[word])\n",
    "print()\n",
    "print (\"Distinctive words for Whisper\")\n",
    "for word, score in sorted (log_odds_score.items(), key=lambda x:x[1], reverse=False)[0:10]:\n",
    "  print (word, f\"{score:0.2f}\", \" \", whisper_counter2[word], \"vs.\", zoom_counter2[word])"
   ]
  },
  {
   "cell_type": "markdown",
   "metadata": {},
   "source": [
    "### In this one, we also see a number of glaring differences. One interesting one, is that Zoom splits \"cross\" and \"-validation\" up into two words. Whereas Whisper, more similarly to grammatical English, does not split them up.\n",
    "\n",
    "### Zoom spells out numbers and Whisper does not\n",
    "\n",
    "### Finally, Whisper captures mathemtical words like squared, ridge, and lasso better."
   ]
  },
  {
   "cell_type": "markdown",
   "metadata": {},
   "source": [
    "# Cosine Similarity Analysis"
   ]
  },
  {
   "cell_type": "markdown",
   "metadata": {},
   "source": [
    "### We are going to proceed to use cosine similarity as one of the methods to see how similar two corpi of text are."
   ]
  },
  {
   "cell_type": "markdown",
   "metadata": {},
   "source": [
    "### **Note**: The files, `text1`, `text2`, `text3`, and `text4` should be available to view in JupyterLab file viewer on the left from the previous code we ran. Make sure to check the path of these files before running this code on your computer! The code below opens these text files. "
   ]
  },
  {
   "cell_type": "code",
   "execution_count": 38,
   "metadata": {
    "tags": []
   },
   "outputs": [],
   "source": [
    "file_path = 'text1'  \n",
    "\n",
    "with open(file_path, 'r') as file:\n",
    "    content = file.read()\n",
    "    text1 = content"
   ]
  },
  {
   "cell_type": "code",
   "execution_count": 40,
   "metadata": {
    "tags": []
   },
   "outputs": [],
   "source": [
    "file_path = 'text2' \n",
    "\n",
    "with open(file_path, 'r') as file:\n",
    "    content = file.read()\n",
    "    text2 = content"
   ]
  },
  {
   "cell_type": "code",
   "execution_count": 41,
   "metadata": {
    "tags": []
   },
   "outputs": [],
   "source": [
    "file_path = 'text3'  \n",
    "\n",
    "with open(file_path, 'r') as file:\n",
    "    content = file.read()\n",
    "    text3 = content"
   ]
  },
  {
   "cell_type": "code",
   "execution_count": 42,
   "metadata": {
    "tags": []
   },
   "outputs": [],
   "source": [
    "file_path = 'text4'  \n",
    "\n",
    "with open(file_path, 'r') as file:\n",
    "    content = file.read()\n",
    "    text4 = content"
   ]
  },
  {
   "cell_type": "code",
   "execution_count": 43,
   "metadata": {
    "tags": []
   },
   "outputs": [],
   "source": [
    "from sklearn.feature_extraction.text import TfidfVectorizer\n",
    "from sklearn.metrics.pairwise import cosine_similarity\n",
    "\n",
    "def compute_similarity(text1, text2):\n",
    "    vectorizer = TfidfVectorizer()\n",
    "    tfidf_matrix = vectorizer.fit_transform([text1, text2])\n",
    "    similarity = cosine_similarity(tfidf_matrix[0:1], tfidf_matrix[1:2])\n",
    "\n",
    "    return similarity[0][0]\n",
    "\n",
    "similarity_score_1_2 = compute_similarity(text1,text2)\n",
    "similarity_score_3_4 = compute_similarity(text3,text4)"
   ]
  },
  {
   "cell_type": "code",
   "execution_count": 44,
   "metadata": {
    "tags": []
   },
   "outputs": [
    {
     "name": "stdout",
     "output_type": "stream",
     "text": [
      "0.9951874283305783\n",
      "0.9973538205044212\n"
     ]
    }
   ],
   "source": [
    "print(similarity_score_1_2)\n",
    "print(similarity_score_3_4)"
   ]
  },
  {
   "cell_type": "code",
   "execution_count": 45,
   "metadata": {
    "tags": []
   },
   "outputs": [
    {
     "name": "stdout",
     "output_type": "stream",
     "text": [
      "0.9951874283305783\n"
     ]
    }
   ],
   "source": [
    "print(compute_similarity(text1, text2))"
   ]
  },
  {
   "cell_type": "markdown",
   "metadata": {},
   "source": [
    "### We can see that the Zoom and Whisper transcriptions of the two lectures are both over 99% similar. A cosine similarity score closer to 1 means that the two corpi are the exact same, while one closer to 0 indicates that the two texts are completely different.\n",
    "\n",
    "### Since we are comparing files which came from the same audio source, this is to be expected.\n",
    "\n",
    "### A discrepency in this case may indicate that one--or both--of the transcription algorithms have detected some \"hallucinated\" text from background noise or may have left out some unintelligible speech."
   ]
  },
  {
   "cell_type": "markdown",
   "metadata": {},
   "source": [
    "# N-Gram Similarity Scoring"
   ]
  },
  {
   "cell_type": "markdown",
   "metadata": {},
   "source": [
    "### Another method we may be able to use is an N-gram model to compare similar.\n",
    "\n",
    "### N-gram works by taking combinations of n adjacent words, called 'grams' and compares the similar. For example, a 2-gram might be \"generative method\", a 3-gram might be \"another generative method\", and so on. This grades the content of each gram and evaluates the word similarity between them.\n",
    "\n",
    "### One helpful example may be that many plagiarism detection algorithms use n-grams. But this use of n-grams is also why there are many false positives, as a frequently-used string may be detected as plagiarism."
   ]
  },
  {
   "cell_type": "code",
   "execution_count": 46,
   "metadata": {
    "tags": []
   },
   "outputs": [],
   "source": [
    "def compute_ngram_similarity(text1, text2, n):\n",
    "\n",
    "    vectorizer = TfidfVectorizer(ngram_range=(n, n))\n",
    "    tfidf_matrix = vectorizer.fit_transform([text1, text2])\n",
    "    similarity = cosine_similarity(tfidf_matrix[0:1], tfidf_matrix[1:2])\n",
    "\n",
    "    return similarity[0][0]"
   ]
  },
  {
   "cell_type": "code",
   "execution_count": 47,
   "metadata": {
    "tags": []
   },
   "outputs": [
    {
     "data": {
      "image/png": "[encoded data removed]",
      "text/plain": [
       "<Figure size 1000x600 with 1 Axes>"
      ]
     },
     "metadata": {},
     "output_type": "display_data"
    }
   ],
   "source": [
    "similarity_scores_1_2 = []\n",
    "similarity_scores_3_4 = []\n",
    "\n",
    "n_values = range(2, 11)\n",
    "\n",
    "for n in n_values:\n",
    "    score_1_2 = compute_ngram_similarity(text1, text2, n)\n",
    "    score_3_4 = compute_ngram_similarity(text3, text4, n)\n",
    "    similarity_scores_1_2.append(score_1_2)\n",
    "    similarity_scores_3_4.append(score_3_4)\n",
    "\n",
    "plt.figure(figsize=(10, 6))\n",
    "plt.plot(n_values, similarity_scores_1_2, marker='o', label='LDA & QDA Lecture')\n",
    "plt.plot(n_values, similarity_scores_3_4, marker='x', label='Regularization & Subset Selection Lecture')\n",
    "plt.xlabel('N-gram (n)')\n",
    "plt.ylabel('Similarity Score')\n",
    "plt.title('N-gram Similarity Scores for Different Values of n')\n",
    "plt.xticks(n_values)\n",
    "plt.legend()\n",
    "plt.grid(True)\n",
    "plt.show()"
   ]
  },
  {
   "cell_type": "markdown",
   "metadata": {},
   "source": [
    "### Our similarity starts off very high since smaller word chunks are more likely to be identical and decreases as the gram size increases.\n",
    "\n",
    "### We can see that our text files both decrease in similarity at a similar rate as n increases. This is curious, since they originate from the same audio source.\n",
    "\n",
    "### One possible explanation for this is that the Zoom transcription seems to be more raw, just trying to recognize words without much emphasis on grammar, whereas the Whisper transcription seems to have been corrected for proper punctuation and sentence structure and may have had words inserted based on probability that they should have appeared between in a corpus with proper grammar."
   ]
  }
 ],
 "metadata": {
  "availableInstances": [
   {
    "_defaultOrder": 0,
    "_isFastLaunch": true,
    "category": "General purpose",
    "gpuNum": 0,
    "hideHardwareSpecs": false,
    "memoryGiB": 4,
    "name": "ml.t3.medium",
    "vcpuNum": 2
   },
   {
    "_defaultOrder": 1,
    "_isFastLaunch": false,
    "category": "General purpose",
    "gpuNum": 0,
    "hideHardwareSpecs": false,
    "memoryGiB": 8,
    "name": "ml.t3.large",
    "vcpuNum": 2
   },
   {
    "_defaultOrder": 2,
    "_isFastLaunch": false,
    "category": "General purpose",
    "gpuNum": 0,
    "hideHardwareSpecs": false,
    "memoryGiB": 16,
    "name": "ml.t3.xlarge",
    "vcpuNum": 4
   },
   {
    "_defaultOrder": 3,
    "_isFastLaunch": false,
    "category": "General purpose",
    "gpuNum": 0,
    "hideHardwareSpecs": false,
    "memoryGiB": 32,
    "name": "ml.t3.2xlarge",
    "vcpuNum": 8
   },
   {
    "_defaultOrder": 4,
    "_isFastLaunch": true,
    "category": "General purpose",
    "gpuNum": 0,
    "hideHardwareSpecs": false,
    "memoryGiB": 8,
    "name": "ml.m5.large",
    "vcpuNum": 2
   },
   {
    "_defaultOrder": 5,
    "_isFastLaunch": false,
    "category": "General purpose",
    "gpuNum": 0,
    "hideHardwareSpecs": false,
    "memoryGiB": 16,
    "name": "ml.m5.xlarge",
    "vcpuNum": 4
   },
   {
    "_defaultOrder": 6,
    "_isFastLaunch": false,
    "category": "General purpose",
    "gpuNum": 0,
    "hideHardwareSpecs": false,
    "memoryGiB": 32,
    "name": "ml.m5.2xlarge",
    "vcpuNum": 8
   },
   {
    "_defaultOrder": 7,
    "_isFastLaunch": false,
    "category": "General purpose",
    "gpuNum": 0,
    "hideHardwareSpecs": false,
    "memoryGiB": 64,
    "name": "ml.m5.4xlarge",
    "vcpuNum": 16
   },
   {
    "_defaultOrder": 8,
    "_isFastLaunch": false,
    "category": "General purpose",
    "gpuNum": 0,
    "hideHardwareSpecs": false,
    "memoryGiB": 128,
    "name": "ml.m5.8xlarge",
    "vcpuNum": 32
   },
   {
    "_defaultOrder": 9,
    "_isFastLaunch": false,
    "category": "General purpose",
    "gpuNum": 0,
    "hideHardwareSpecs": false,
    "memoryGiB": 192,
    "name": "ml.m5.12xlarge",
    "vcpuNum": 48
   },
   {
    "_defaultOrder": 10,
    "_isFastLaunch": false,
    "category": "General purpose",
    "gpuNum": 0,
    "hideHardwareSpecs": false,
    "memoryGiB": 256,
    "name": "ml.m5.16xlarge",
    "vcpuNum": 64
   },
   {
    "_defaultOrder": 11,
    "_isFastLaunch": false,
    "category": "General purpose",
    "gpuNum": 0,
    "hideHardwareSpecs": false,
    "memoryGiB": 384,
    "name": "ml.m5.24xlarge",
    "vcpuNum": 96
   },
   {
    "_defaultOrder": 12,
    "_isFastLaunch": false,
    "category": "General purpose",
    "gpuNum": 0,
    "hideHardwareSpecs": false,
    "memoryGiB": 8,
    "name": "ml.m5d.large",
    "vcpuNum": 2
   },
   {
    "_defaultOrder": 13,
    "_isFastLaunch": false,
    "category": "General purpose",
    "gpuNum": 0,
    "hideHardwareSpecs": false,
    "memoryGiB": 16,
    "name": "ml.m5d.xlarge",
    "vcpuNum": 4
   },
   {
    "_defaultOrder": 14,
    "_isFastLaunch": false,
    "category": "General purpose",
    "gpuNum": 0,
    "hideHardwareSpecs": false,
    "memoryGiB": 32,
    "name": "ml.m5d.2xlarge",
    "vcpuNum": 8
   },
   {
    "_defaultOrder": 15,
    "_isFastLaunch": false,
    "category": "General purpose",
    "gpuNum": 0,
    "hideHardwareSpecs": false,
    "memoryGiB": 64,
    "name": "ml.m5d.4xlarge",
    "vcpuNum": 16
   },
   {
    "_defaultOrder": 16,
    "_isFastLaunch": false,
    "category": "General purpose",
    "gpuNum": 0,
    "hideHardwareSpecs": false,
    "memoryGiB": 128,
    "name": "ml.m5d.8xlarge",
    "vcpuNum": 32
   },
   {
    "_defaultOrder": 17,
    "_isFastLaunch": false,
    "category": "General purpose",
    "gpuNum": 0,
    "hideHardwareSpecs": false,
    "memoryGiB": 192,
    "name": "ml.m5d.12xlarge",
    "vcpuNum": 48
   },
   {
    "_defaultOrder": 18,
    "_isFastLaunch": false,
    "category": "General purpose",
    "gpuNum": 0,
    "hideHardwareSpecs": false,
    "memoryGiB": 256,
    "name": "ml.m5d.16xlarge",
    "vcpuNum": 64
   },
   {
    "_defaultOrder": 19,
    "_isFastLaunch": false,
    "category": "General purpose",
    "gpuNum": 0,
    "hideHardwareSpecs": false,
    "memoryGiB": 384,
    "name": "ml.m5d.24xlarge",
    "vcpuNum": 96
   },
   {
    "_defaultOrder": 20,
    "_isFastLaunch": false,
    "category": "General purpose",
    "gpuNum": 0,
    "hideHardwareSpecs": true,
    "memoryGiB": 0,
    "name": "ml.geospatial.interactive",
    "supportedImageNames": [
     "sagemaker-geospatial-v1-0"
    ],
    "vcpuNum": 0
   },
   {
    "_defaultOrder": 21,
    "_isFastLaunch": true,
    "category": "Compute optimized",
    "gpuNum": 0,
    "hideHardwareSpecs": false,
    "memoryGiB": 4,
    "name": "ml.c5.large",
    "vcpuNum": 2
   },
   {
    "_defaultOrder": 22,
    "_isFastLaunch": false,
    "category": "Compute optimized",
    "gpuNum": 0,
    "hideHardwareSpecs": false,
    "memoryGiB": 8,
    "name": "ml.c5.xlarge",
    "vcpuNum": 4
   },
   {
    "_defaultOrder": 23,
    "_isFastLaunch": false,
    "category": "Compute optimized",
    "gpuNum": 0,
    "hideHardwareSpecs": false,
    "memoryGiB": 16,
    "name": "ml.c5.2xlarge",
    "vcpuNum": 8
   },
   {
    "_defaultOrder": 24,
    "_isFastLaunch": false,
    "category": "Compute optimized",
    "gpuNum": 0,
    "hideHardwareSpecs": false,
    "memoryGiB": 32,
    "name": "ml.c5.4xlarge",
    "vcpuNum": 16
   },
   {
    "_defaultOrder": 25,
    "_isFastLaunch": false,
    "category": "Compute optimized",
    "gpuNum": 0,
    "hideHardwareSpecs": false,
    "memoryGiB": 72,
    "name": "ml.c5.9xlarge",
    "vcpuNum": 36
   },
   {
    "_defaultOrder": 26,
    "_isFastLaunch": false,
    "category": "Compute optimized",
    "gpuNum": 0,
    "hideHardwareSpecs": false,
    "memoryGiB": 96,
    "name": "ml.c5.12xlarge",
    "vcpuNum": 48
   },
   {
    "_defaultOrder": 27,
    "_isFastLaunch": false,
    "category": "Compute optimized",
    "gpuNum": 0,
    "hideHardwareSpecs": false,
    "memoryGiB": 144,
    "name": "ml.c5.18xlarge",
    "vcpuNum": 72
   },
   {
    "_defaultOrder": 28,
    "_isFastLaunch": false,
    "category": "Compute optimized",
    "gpuNum": 0,
    "hideHardwareSpecs": false,
    "memoryGiB": 192,
    "name": "ml.c5.24xlarge",
    "vcpuNum": 96
   },
   {
    "_defaultOrder": 29,
    "_isFastLaunch": true,
    "category": "Accelerated computing",
    "gpuNum": 1,
    "hideHardwareSpecs": false,
    "memoryGiB": 16,
    "name": "ml.g4dn.xlarge",
    "vcpuNum": 4
   },
   {
    "_defaultOrder": 30,
    "_isFastLaunch": false,
    "category": "Accelerated computing",
    "gpuNum": 1,
    "hideHardwareSpecs": false,
    "memoryGiB": 32,
    "name": "ml.g4dn.2xlarge",
    "vcpuNum": 8
   },
   {
    "_defaultOrder": 31,
    "_isFastLaunch": false,
    "category": "Accelerated computing",
    "gpuNum": 1,
    "hideHardwareSpecs": false,
    "memoryGiB": 64,
    "name": "ml.g4dn.4xlarge",
    "vcpuNum": 16
   },
   {
    "_defaultOrder": 32,
    "_isFastLaunch": false,
    "category": "Accelerated computing",
    "gpuNum": 1,
    "hideHardwareSpecs": false,
    "memoryGiB": 128,
    "name": "ml.g4dn.8xlarge",
    "vcpuNum": 32
   },
   {
    "_defaultOrder": 33,
    "_isFastLaunch": false,
    "category": "Accelerated computing",
    "gpuNum": 4,
    "hideHardwareSpecs": false,
    "memoryGiB": 192,
    "name": "ml.g4dn.12xlarge",
    "vcpuNum": 48
   },
   {
    "_defaultOrder": 34,
    "_isFastLaunch": false,
    "category": "Accelerated computing",
    "gpuNum": 1,
    "hideHardwareSpecs": false,
    "memoryGiB": 256,
    "name": "ml.g4dn.16xlarge",
    "vcpuNum": 64
   },
   {
    "_defaultOrder": 35,
    "_isFastLaunch": false,
    "category": "Accelerated computing",
    "gpuNum": 1,
    "hideHardwareSpecs": false,
    "memoryGiB": 61,
    "name": "ml.p3.2xlarge",
    "vcpuNum": 8
   },
   {
    "_defaultOrder": 36,
    "_isFastLaunch": false,
    "category": "Accelerated computing",
    "gpuNum": 4,
    "hideHardwareSpecs": false,
    "memoryGiB": 244,
    "name": "ml.p3.8xlarge",
    "vcpuNum": 32
   },
   {
    "_defaultOrder": 37,
    "_isFastLaunch": false,
    "category": "Accelerated computing",
    "gpuNum": 8,
    "hideHardwareSpecs": false,
    "memoryGiB": 488,
    "name": "ml.p3.16xlarge",
    "vcpuNum": 64
   },
   {
    "_defaultOrder": 38,
    "_isFastLaunch": false,
    "category": "Accelerated computing",
    "gpuNum": 8,
    "hideHardwareSpecs": false,
    "memoryGiB": 768,
    "name": "ml.p3dn.24xlarge",
    "vcpuNum": 96
   },
   {
    "_defaultOrder": 39,
    "_isFastLaunch": false,
    "category": "Memory Optimized",
    "gpuNum": 0,
    "hideHardwareSpecs": false,
    "memoryGiB": 16,
    "name": "ml.r5.large",
    "vcpuNum": 2
   },
   {
    "_defaultOrder": 40,
    "_isFastLaunch": false,
    "category": "Memory Optimized",
    "gpuNum": 0,
    "hideHardwareSpecs": false,
    "memoryGiB": 32,
    "name": "ml.r5.xlarge",
    "vcpuNum": 4
   },
   {
    "_defaultOrder": 41,
    "_isFastLaunch": false,
    "category": "Memory Optimized",
    "gpuNum": 0,
    "hideHardwareSpecs": false,
    "memoryGiB": 64,
    "name": "ml.r5.2xlarge",
    "vcpuNum": 8
   },
   {
    "_defaultOrder": 42,
    "_isFastLaunch": false,
    "category": "Memory Optimized",
    "gpuNum": 0,
    "hideHardwareSpecs": false,
    "memoryGiB": 128,
    "name": "ml.r5.4xlarge",
    "vcpuNum": 16
   },
   {
    "_defaultOrder": 43,
    "_isFastLaunch": false,
    "category": "Memory Optimized",
    "gpuNum": 0,
    "hideHardwareSpecs": false,
    "memoryGiB": 256,
    "name": "ml.r5.8xlarge",
    "vcpuNum": 32
   },
   {
    "_defaultOrder": 44,
    "_isFastLaunch": false,
    "category": "Memory Optimized",
    "gpuNum": 0,
    "hideHardwareSpecs": false,
    "memoryGiB": 384,
    "name": "ml.r5.12xlarge",
    "vcpuNum": 48
   },
   {
    "_defaultOrder": 45,
    "_isFastLaunch": false,
    "category": "Memory Optimized",
    "gpuNum": 0,
    "hideHardwareSpecs": false,
    "memoryGiB": 512,
    "name": "ml.r5.16xlarge",
    "vcpuNum": 64
   },
   {
    "_defaultOrder": 46,
    "_isFastLaunch": false,
    "category": "Memory Optimized",
    "gpuNum": 0,
    "hideHardwareSpecs": false,
    "memoryGiB": 768,
    "name": "ml.r5.24xlarge",
    "vcpuNum": 96
   },
   {
    "_defaultOrder": 47,
    "_isFastLaunch": false,
    "category": "Accelerated computing",
    "gpuNum": 1,
    "hideHardwareSpecs": false,
    "memoryGiB": 16,
    "name": "ml.g5.xlarge",
    "vcpuNum": 4
   },
   {
    "_defaultOrder": 48,
    "_isFastLaunch": false,
    "category": "Accelerated computing",
    "gpuNum": 1,
    "hideHardwareSpecs": false,
    "memoryGiB": 32,
    "name": "ml.g5.2xlarge",
    "vcpuNum": 8
   },
   {
    "_defaultOrder": 49,
    "_isFastLaunch": false,
    "category": "Accelerated computing",
    "gpuNum": 1,
    "hideHardwareSpecs": false,
    "memoryGiB": 64,
    "name": "ml.g5.4xlarge",
    "vcpuNum": 16
   },
   {
    "_defaultOrder": 50,
    "_isFastLaunch": false,
    "category": "Accelerated computing",
    "gpuNum": 1,
    "hideHardwareSpecs": false,
    "memoryGiB": 128,
    "name": "ml.g5.8xlarge",
    "vcpuNum": 32
   },
   {
    "_defaultOrder": 51,
    "_isFastLaunch": false,
    "category": "Accelerated computing",
    "gpuNum": 1,
    "hideHardwareSpecs": false,
    "memoryGiB": 256,
    "name": "ml.g5.16xlarge",
    "vcpuNum": 64
   },
   {
    "_defaultOrder": 52,
    "_isFastLaunch": false,
    "category": "Accelerated computing",
    "gpuNum": 4,
    "hideHardwareSpecs": false,
    "memoryGiB": 192,
    "name": "ml.g5.12xlarge",
    "vcpuNum": 48
   },
   {
    "_defaultOrder": 53,
    "_isFastLaunch": false,
    "category": "Accelerated computing",
    "gpuNum": 4,
    "hideHardwareSpecs": false,
    "memoryGiB": 384,
    "name": "ml.g5.24xlarge",
    "vcpuNum": 96
   },
   {
    "_defaultOrder": 54,
    "_isFastLaunch": false,
    "category": "Accelerated computing",
    "gpuNum": 8,
    "hideHardwareSpecs": false,
    "memoryGiB": 768,
    "name": "ml.g5.48xlarge",
    "vcpuNum": 192
   },
   {
    "_defaultOrder": 55,
    "_isFastLaunch": false,
    "category": "Accelerated computing",
    "gpuNum": 8,
    "hideHardwareSpecs": false,
    "memoryGiB": 1152,
    "name": "ml.p4d.24xlarge",
    "vcpuNum": 96
   },
   {
    "_defaultOrder": 56,
    "_isFastLaunch": false,
    "category": "Accelerated computing",
    "gpuNum": 8,
    "hideHardwareSpecs": false,
    "memoryGiB": 1152,
    "name": "ml.p4de.24xlarge",
    "vcpuNum": 96
   }
  ],
  "colab": {
   "provenance": []
  },
  "instance_type": "ml.t3.medium",
  "kernelspec": {
   "display_name": "Python 3 (ipykernel)",
   "language": "python",
   "name": "python3"
  },
  "language_info": {
   "codemirror_mode": {
    "name": "ipython",
    "version": 3
   },
   "file_extension": ".py",
   "mimetype": "text/x-python",
   "name": "python",
   "nbconvert_exporter": "python",
   "pygments_lexer": "ipython3",
   "version": "3.9.12"
  }
 },
 "nbformat": 4,
 "nbformat_minor": 4
}
